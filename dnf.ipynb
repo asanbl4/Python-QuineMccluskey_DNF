{
 "cells": [
  {
   "cell_type": "code",
   "execution_count": 5,
   "id": "initial_id",
   "metadata": {
    "collapsed": true,
    "ExecuteTime": {
     "end_time": "2024-02-18T18:32:03.020236Z",
     "start_time": "2024-02-18T18:32:03.018276Z"
    }
   },
   "outputs": [],
   "source": [
    "def get_table(n):\n",
    "    table = []\n",
    "    for i in range(1, 2 ** n + 1):\n",
    "        temp = [i <= 2 ** (n - 1)]\n",
    "        # 4\n",
    "        if n == 2:\n",
    "            temp.append(i % 2 == 1)\n",
    "        elif n == 3:\n",
    "            temp.append(1 <= i % 2 ** (n - 1) <= 2)\n",
    "            temp.append(i % 2 ** (n - 2) == 1)\n",
    "        elif n == 4:\n",
    "            temp.append(1 <= i % 2 ** (n - 1) <= 4)\n",
    "            temp.append(1 <= i % 2 ** (n - 2) <= 2)\n",
    "            temp.append(i % 2 ** (n - 3) == 1)\n",
    "        table.append(temp)\n",
    "    return table\n",
    "\n",
    "\n",
    "def negation(s):\n",
    "    arr = s.split()\n",
    "    for i in range(len(arr)):\n",
    "        if arr[i] == \"&\":\n",
    "            arr[i] = \"|\"\n",
    "        elif arr[i] == \"|\":\n",
    "            arr[i] = \"&\"\n",
    "        # (-a\n",
    "        elif \"-\" in arr[i]:\n",
    "            found = arr[i].find(\"-\")\n",
    "            # (-a or -a\n",
    "            if found == len(arr[i]) - 2:\n",
    "                arr[i] = arr[i][:found] + arr[i][found + 1:]\n",
    "            # ((-(a\n",
    "            else:\n",
    "                # if s is for instance (-(a | b) & (a & b))\n",
    "                opening, closing, j = arr[i][found:].count(\"(\"), 0, i + 1\n",
    "                while opening > closing:\n",
    "                    opening += arr[j].count(\"(\")\n",
    "                    closing += arr[j].count(\")\")\n",
    "                    j += 1\n",
    "                i = j\n",
    "                continue\n",
    "        # (a\n",
    "        elif \"-\" not in arr[i]:\n",
    "            counted = arr[i].count('(')\n",
    "            arr[i] = arr[i][:counted] + '-' + arr[i][counted:]\n",
    "\n",
    "    return ' '.join(arr) + ' '\n",
    "\n",
    "\n",
    "def dnf(number_of_variables, expression):\n",
    "    ans, table = '', get_table(number_of_variables)\n",
    "    for i in range(len(expression)):\n",
    "        # -()\n",
    "        if expression.find(\"-(\", i, len(expression) - 1) != -1:\n",
    "            found = expression.find(\"-(\", i, len(expression) - 1)\n",
    "            opening_parenthesis, closing_parenthesis = 0, 0\n",
    "            current_open, current_close = found, 0\n",
    "            for j in range(found, len(expression)):\n",
    "                if expression[j] == \"(\":\n",
    "                    opening_parenthesis += 1\n",
    "                elif expression[j] == \")\":\n",
    "                    current_close = j\n",
    "                    closing_parenthesis += 1\n",
    "                if opening_parenthesis == closing_parenthesis != 0:\n",
    "                    break\n",
    "            expression = expression[:found] + expression[found:].replace(\"-(\", \"(\", 1)\n",
    "            current_close -= 1\n",
    "            expression = expression[:found + 1] + negation(expression[current_open + 1:current_close]) + expression[current_close:]\n",
    "        # arrow\n",
    "        if expression.find(\"r\", i, len(expression) - 1) != -1:\n",
    "            found = expression.find(\"r\", i)\n",
    "            expression = expression.replace(\"r\", \"|\", 1)\n",
    "            temp = expression[:found - 1]\n",
    "            start, end, opening_parenthesis, closing_parenthesis = 0, 0, 0, 0\n",
    "            current_open, current_close = 0, 0\n",
    "            # print(temp)\n",
    "            for j in range(len(temp) - 1, -1, -1):\n",
    "                # print(temp[j])\n",
    "                if temp[j] == \")\":\n",
    "                    closing_parenthesis += 1\n",
    "                    current_close = j\n",
    "                elif temp[j] == \"(\":\n",
    "                    opening_parenthesis += 1\n",
    "                    current_open = j\n",
    "                if opening_parenthesis == closing_parenthesis != 0:\n",
    "                    break\n",
    "            if current_close != 0:\n",
    "                expression = expression[:current_open] + negation(expression[current_open: current_close + 1]) + expression[current_close + 1:]\n",
    "            else:\n",
    "                expression = expression[:current_open] + negation(expression[current_open:found]) + expression[found:]\n",
    "    print(f\"Our converted function: {expression}\")\n",
    "    # last step with | and & and paranthesis\n",
    "    for i in table:\n",
    "        temp = expression\n",
    "        # replacing letters with 0's and 1's from the truth table\n",
    "        for j in range(len(i)):\n",
    "            if j == 0:\n",
    "                temp = temp.replace(\"-a\", str(int(not i[j])))\n",
    "                temp = temp.replace(\"a\", str(int(i[j])))\n",
    "            elif j == 1:\n",
    "                temp = temp.replace(\"-b\", str(int(not i[j])))\n",
    "                temp = temp.replace(\"b\", str(int(i[j])))\n",
    "            elif j == 2:\n",
    "                temp = temp.replace(\"-c\", str(int(not i[j])))\n",
    "                temp = temp.replace(\"c\", str(int(i[j])))\n",
    "            elif j == 3:\n",
    "                temp = temp.replace(\"-d\", str(int(not i[j])))\n",
    "                temp = temp.replace(\"d\", str(int(i[j])))\n",
    "        # checking if the result is 1, then adding it to the final answer\n",
    "        if eval(temp):\n",
    "            if number_of_variables == 1:\n",
    "                ans += f' | {\"a\" if i[0] else \"-a\"}'\n",
    "            elif number_of_variables == 2:\n",
    "                ans += f' | {\"a\" if i[0] else \"-a\"}{\" & b\" if i[1] else \" & -b\"}'\n",
    "            elif number_of_variables == 3:\n",
    "                ans += f' | {\"a\" if i[0] else \"-a\"}{\" & b\" if i[1] else \" & -b\"}{\" & c\" if i[2] else \" & -c\"}'\n",
    "            elif number_of_variables == 4:\n",
    "                ans += f' | {\"a\" if i[0] else \"-a\"}{\" & b\" if i[1] else \" & -b\"}{\" & c\" if i[2] else \" & -c\"}{\" & d\" if i[3] else \" & -d\"}'\n",
    "\n",
    "    return ans[3:]"
   ]
  },
  {
   "cell_type": "code",
   "execution_count": 9,
   "outputs": [
    {
     "name": "stdout",
     "output_type": "stream",
     "text": [
      "Our converted function: (a & b) | (c & -d )\n",
      "a & b & c & d | a & b & c & -d | a & b & -c & d | a & b & -c & -d | a & -b & c & -d | -a & b & c & -d | -a & -b & c & -d\n"
     ]
    }
   ],
   "source": [
    "print(dnf(number_of_variables=4, expression='(a & b) | --(c & -d)'))"
   ],
   "metadata": {
    "collapsed": false,
    "ExecuteTime": {
     "end_time": "2024-02-18T18:33:16.297787Z",
     "start_time": "2024-02-18T18:33:16.292029Z"
    }
   },
   "id": "d62d1aa558e33046"
  },
  {
   "cell_type": "code",
   "execution_count": 10,
   "outputs": [
    {
     "name": "stdout",
     "output_type": "stream",
     "text": [
      "Our converted function: -a | b\n",
      "a & b | -a & b | -a & -b\n"
     ]
    }
   ],
   "source": [
    "# r stands for →\n",
    "print(dnf(number_of_variables=2, expression='a r b'))"
   ],
   "metadata": {
    "collapsed": false,
    "ExecuteTime": {
     "end_time": "2024-02-18T18:33:57.050491Z",
     "start_time": "2024-02-18T18:33:57.041924Z"
    }
   },
   "id": "6be7ce2328fe21d2"
  },
  {
   "cell_type": "code",
   "execution_count": 14,
   "outputs": [
    {
     "name": "stdout",
     "output_type": "stream",
     "text": [
      "Our converted function: (-a | -b)  | (-a | b)\n",
      "a & b | a & -b | -a & b | -a & -b\n"
     ]
    }
   ],
   "source": [
    "print(dnf(number_of_variables=2, expression='(a & b) r (-a | b)'))"
   ],
   "metadata": {
    "collapsed": false,
    "ExecuteTime": {
     "end_time": "2024-02-18T18:35:27.425554Z",
     "start_time": "2024-02-18T18:35:27.420080Z"
    }
   },
   "id": "1464e09a7a2d44ef"
  }
 ],
 "metadata": {
  "kernelspec": {
   "display_name": "Python 3",
   "language": "python",
   "name": "python3"
  },
  "language_info": {
   "codemirror_mode": {
    "name": "ipython",
    "version": 2
   },
   "file_extension": ".py",
   "mimetype": "text/x-python",
   "name": "python",
   "nbconvert_exporter": "python",
   "pygments_lexer": "ipython2",
   "version": "2.7.6"
  }
 },
 "nbformat": 4,
 "nbformat_minor": 5
}
