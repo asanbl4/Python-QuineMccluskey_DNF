{
 "cells": [
  {
   "cell_type": "code",
   "execution_count": 1,
   "id": "initial_id",
   "metadata": {
    "collapsed": true,
    "ExecuteTime": {
     "end_time": "2024-02-18T18:36:48.935775Z",
     "start_time": "2024-02-18T18:36:48.929595Z"
    }
   },
   "outputs": [],
   "source": [
    "def to_boolean(variables):\n",
    "    for i in range(len(variables)):\n",
    "        for j in range(len(variables[i])):\n",
    "            if variables[i][j].find(\"-\") != -1:\n",
    "                variables[i][j] = 0\n",
    "            else:\n",
    "                variables[i][j] = 1\n",
    "    return variables\n",
    "\n",
    "\n",
    "def solve(number_of_variables, dnf):\n",
    "    variables = to_boolean([i.split(\" & \") for i in dnf.split(\" | \")])\n",
    "    d = {}\n",
    "    for i in variables:\n",
    "        temp = d.get(sum(i))\n",
    "        if temp:\n",
    "            temp.append(i)\n",
    "            d[sum(i)] = temp\n",
    "        else:\n",
    "            d[sum(i)] = [i]\n",
    "    d = dict(sorted(d.items(), reverse=True))\n",
    "    flags = {False: [],\n",
    "             True: []}\n",
    "    for i in d.values():\n",
    "        for j in i:\n",
    "            flags[False].append(j)\n",
    "    next1, ans = [], []\n",
    "    for key in d.keys():\n",
    "        for i in d.get(key):\n",
    "            next1.append(i)\n",
    "    while True:\n",
    "        next_step = []\n",
    "        for i in range(len(next1) - 1):\n",
    "            for j in range(i + 1, len(next1)):\n",
    "                l1, l2 = next1[i], next1[j]\n",
    "                equals, add = 0, []\n",
    "                for k in range(number_of_variables):\n",
    "                    if l1[k] == l2[k]:\n",
    "                        add.append(l1[k])\n",
    "                        equals += 1\n",
    "                    else:\n",
    "                        add.append(\"_\")\n",
    "                if equals == number_of_variables - 1:\n",
    "                    if l1 in flags.get(False):\n",
    "                        flags[True].append(l1)\n",
    "                        flags[False].remove(l1)\n",
    "                    if l2 in flags.get(False):\n",
    "                        flags[True].append(l2)\n",
    "                        flags[False].remove(l2)\n",
    "                    next_step.append(add)\n",
    "        next1 = next_step\n",
    "        if flags.get(False):\n",
    "            ans.append(flags.get(False))\n",
    "        flags = {False: [i for i in next1],\n",
    "                 True: []}\n",
    "        if not next_step:\n",
    "            break\n",
    "    anss = []\n",
    "    for i in ans:\n",
    "        for j in i:\n",
    "            t = []\n",
    "            for k in range(number_of_variables):\n",
    "                if k == 0:\n",
    "                    if j[k] == 1:\n",
    "                        t.append(\"a\")\n",
    "                    elif j[k] == 0:\n",
    "                        t.append(\"-a\")\n",
    "                elif k == 1:\n",
    "                    if j[k] == 1:\n",
    "                        t.append(\"b\")\n",
    "                    elif j[k] == 0:\n",
    "                        t.append(\"-b\")\n",
    "                elif k == 2:\n",
    "                    if j[k] == 1:\n",
    "                        t.append(\"c\")\n",
    "                    elif j[k] == 0:\n",
    "                        t.append(\"-c\")\n",
    "                elif k == 3:\n",
    "                    if j[k] == 1:\n",
    "                        t.append(\"d\")\n",
    "                    elif j[k] == 0:\n",
    "                        t.append(\"-d\")\n",
    "            anss.append(t)\n",
    "    ans = []\n",
    "    for i in anss:\n",
    "        if i not in ans:\n",
    "            ans.append(i)\n",
    "    value = ''\n",
    "    for i in ans:\n",
    "        value += ' & '.join(i)\n",
    "        value += ' | '\n",
    "    print(value[:-3])"
   ]
  },
  {
   "cell_type": "code",
   "execution_count": 2,
   "outputs": [
    {
     "name": "stdout",
     "output_type": "stream",
     "text": [
      "b | a\n"
     ]
    }
   ],
   "source": [
    "solve(number_of_variables=2, dnf='a & b | -a & b | a & -b')"
   ],
   "metadata": {
    "collapsed": false,
    "ExecuteTime": {
     "end_time": "2024-02-18T18:37:12.959445Z",
     "start_time": "2024-02-18T18:37:12.951945Z"
    }
   },
   "id": "df8fab427be2df87"
  },
  {
   "cell_type": "code",
   "execution_count": 5,
   "outputs": [
    {
     "name": "stdout",
     "output_type": "stream",
     "text": [
      "b & -c | a\n"
     ]
    }
   ],
   "source": [
    "solve(number_of_variables=3, dnf='a & b & c | a & b & -c | a & -b & c | -a & b & -c | a & -b & -c')"
   ],
   "metadata": {
    "collapsed": false,
    "ExecuteTime": {
     "end_time": "2024-02-18T18:38:25.966125Z",
     "start_time": "2024-02-18T18:38:25.963121Z"
    }
   },
   "id": "ddda5f4608aa623"
  },
  {
   "cell_type": "code",
   "execution_count": 7,
   "outputs": [
    {
     "name": "stdout",
     "output_type": "stream",
     "text": [
      "-a & -b & c & d | a & b & d\n"
     ]
    }
   ],
   "source": [
    "solve(number_of_variables=4, dnf='a & b & -c & d | -a & -b & c & d | a & b & c & d')"
   ],
   "metadata": {
    "collapsed": false,
    "ExecuteTime": {
     "end_time": "2024-02-18T18:39:36.982104Z",
     "start_time": "2024-02-18T18:39:36.974729Z"
    }
   },
   "id": "a8f12760b398b66a"
  },
  {
   "cell_type": "code",
   "execution_count": null,
   "outputs": [],
   "source": [],
   "metadata": {
    "collapsed": false
   },
   "id": "54ae15c4dd3ef429"
  }
 ],
 "metadata": {
  "kernelspec": {
   "display_name": "Python 3",
   "language": "python",
   "name": "python3"
  },
  "language_info": {
   "codemirror_mode": {
    "name": "ipython",
    "version": 2
   },
   "file_extension": ".py",
   "mimetype": "text/x-python",
   "name": "python",
   "nbconvert_exporter": "python",
   "pygments_lexer": "ipython2",
   "version": "2.7.6"
  }
 },
 "nbformat": 4,
 "nbformat_minor": 5
}
